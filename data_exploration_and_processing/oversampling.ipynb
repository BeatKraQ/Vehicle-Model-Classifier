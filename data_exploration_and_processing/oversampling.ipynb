{
 "cells": [
  {
   "cell_type": "markdown",
   "metadata": {},
   "source": [
    "## 데이터 불균형 해소\n",
    "- 데이터 불균형 해소를 위해 클래스 제거/ 데이터 증강 및 언더샘플링을 진행합니다.\n",
    "- 판단 기준을 위해 data_explore_and_viz.ipynb 파일을 참고합니다."
   ]
  },
  {
   "cell_type": "code",
   "execution_count": 21,
   "metadata": {},
   "outputs": [
    {
     "name": "stdout",
     "output_type": "stream",
     "text": [
      "Deleted folder: 기아_쏘울_19 in car_back with 32 files.\n",
      "Deleted folder: 현대_넥쏘_2020 in car_back with 14 files.\n",
      "Deleted folder: 현대_벨로스터_17 in car_back with 13 files.\n",
      "Deleted folder: 현대_아이오닉_21 in car_back with 25 files.\n",
      "Deleted folder: 현대_코나_21 in car_back with 42 files.\n",
      "Deleted folder: 기아_쏘울_19 in car_front with 27 files.\n",
      "Deleted folder: 현대_넥쏘_2020 in car_front with 13 files.\n",
      "Deleted folder: 현대_벨로스터_17 in car_front with 15 files.\n",
      "Deleted folder: 현대_아이오닉_21 in car_front with 25 files.\n",
      "Deleted folder: 현대_코나_21 in car_front with 29 files.\n",
      "Deleted folder: 기아_쏘울_19 in car_side with 33 files.\n",
      "Deleted folder: 현대_넥쏘_2020 in car_side with 43 files.\n",
      "Deleted folder: 현대_벨로스터_17 in car_side with 10 files.\n",
      "Deleted folder: 현대_아이오닉_21 in car_side with 27 files.\n",
      "Deleted folder: 현대_코나_21 in car_side with 29 files.\n"
     ]
    }
   ],
   "source": [
    "import os\n",
    "import shutil\n",
    "\n",
    "def delete_folders_with_few_images(base_dir, threshold=50):\n",
    "    \"\"\"임계값보다 적은 파일 수를 보유한 클래스 제거\"\"\"\n",
    "    # 기본 디렉토리의 각 주요 폴더를 순회\n",
    "    for main_folder in os.listdir(base_dir):\n",
    "        main_folder_path = os.path.join(base_dir, main_folder)\n",
    "        if os.path.isdir(main_folder_path):  # 폴더인지 확인\n",
    "            # 주요 폴더의 각 서브폴더를 확인\n",
    "            for subfolder in os.listdir(main_folder_path):\n",
    "                subfolder_path = os.path.join(main_folder_path, subfolder)\n",
    "                if os.path.isdir(subfolder_path):\n",
    "                    # 이 서브폴더에서 모든 jpg 파일을 나열\n",
    "                    files = [f for f in os.listdir(subfolder_path) if f.endswith('.jpg')]\n",
    "                    file_count = len(files)\n",
    "                    \n",
    "                    # 파일 수가 임계값보다 적으면 서브폴더를 삭제\n",
    "                    if file_count < threshold:\n",
    "                        for f in os.listdir(subfolder_path):\n",
    "                            os.chmod(os.path.join(subfolder_path, f), 0o666) # 파일에 대한 권한 부여\n",
    "                        shutil.rmtree(subfolder_path)  # 폴더와 그 내용을 모두 삭제\n",
    "                        print(f\"Deleted folder: {subfolder} in {main_folder} with {file_count} files.\")\n",
    "\n",
    "# 정리하고자 하는 디렉토리 경로\n",
    "base_dir = \"angle_jpg4\"\n",
    "delete_folders_with_few_images(base_dir)\n",
    "\n"
   ]
  },
  {
   "cell_type": "code",
   "execution_count": 24,
   "metadata": {},
   "outputs": [],
   "source": [
    "from tensorflow.keras.preprocessing.image import ImageDataGenerator\n",
    "from keras.preprocessing import image\n",
    "from random import sample\n",
    "\n",
    "def adjust_data(folder, target_min, target_max):\n",
    "    \"\"\"\n",
    "    주어진 폴더의 각 클래스에 대해 데이터를 증강하거나 감소시켜, \n",
    "    지정된 최소 및 최대 파일 수에 맞추어 조정\n",
    "    \"\"\"\n",
    "    # 데이터 증강 설정\n",
    "    datagen = ImageDataGenerator(\n",
    "        rotation_range=10,  # 0-10도 사이에서 이미지 회전\n",
    "        width_shift_range=0.10,  # 이미지를 수평으로 최대 10% 이동\n",
    "        brightness_range=(0.8, 1.2),  # 80%에서 120% 사이의 밝기 조절\n",
    "        height_shift_range=0.10,  # 이미지를 수직으로 최대 10% 이동\n",
    "        fill_mode='nearest',  # 이동할 때 가장자리 픽셀로 채움\n",
    "        horizontal_flip=True,  # 이미지를 수평으로 뒤집기\n",
    "        rescale=1./255  # 이미지 픽셀 값을 0-1 범위로 조정\n",
    "    )\n",
    "    classes = os.listdir(folder)\n",
    "    for cls in classes:\n",
    "        class_dir = os.path.join(folder, cls)\n",
    "        files = os.listdir(class_dir)\n",
    "        num_files = len(files)\n",
    "        \n",
    "        if num_files < target_min:\n",
    "            # 오버샘플링: 데이터 증강을 통해 새 파일 생성\n",
    "            needed_copies = target_min - num_files\n",
    "            while needed_copies > 0:\n",
    "                for i in range(min(needed_copies, num_files)):  # 필요한 복사 수를 초과하지 않도록 함\n",
    "                    original_file = files[i % num_files]\n",
    "                    img_path = os.path.join(class_dir, original_file)\n",
    "                    img = image.load_img(img_path, target_size=(224, 224))  # 모델이 예상하는 입력 크기로 이미지 크기 조정\n",
    "                    x = image.img_to_array(img)\n",
    "                    x = x.reshape((1,) + x.shape)\n",
    "                    \n",
    "                    # 아래 .flow() 명령은 무작위로 변형된 이미지의 배치를 생성하고 결과를 'class_dir' 디렉토리에 저장함\n",
    "                    for batch in datagen.flow(x, batch_size=1, save_to_dir=class_dir, save_prefix='aug', save_format='jpg'):\n",
    "                        needed_copies -= 1\n",
    "                        break  # 무한 루프를 피하기 위해 첫 이미지 후에 중단\n",
    "                    if needed_copies <= 0:\n",
    "                        break\n",
    "\n",
    "        elif num_files > target_max:\n",
    "            # 언더샘플링: 파일을 무작위로 제거\n",
    "            files_to_remove = sample(files, num_files - target_max)\n",
    "            for file in files_to_remove:\n",
    "                os.chmod(os.path.join(class_dir, file), 0o666)\n",
    "                os.remove(os.path.join(class_dir, file))\n",
    "\n",
    "# 각 각도에 대한 조정 적용\n",
    "adjust_data('angle_jpg4/car_front', 250, 250)\n",
    "adjust_data('angle_jpg4/car_back', 250, 250)\n",
    "adjust_data('angle_jpg4/car_side', 250, 250)"
   ]
  },
  {
   "cell_type": "code",
   "execution_count": 27,
   "metadata": {},
   "outputs": [
    {
     "name": "stdout",
     "output_type": "stream",
     "text": [
      "                      Folder  Number of Files\n",
      "0                기아_K3_17-18              250\n",
      "1                기아_K3_19-21              250\n",
      "2                기아_K5_17_MX              249\n",
      "3                기아_K5_18-19              250\n",
      "4                기아_K5_20-21              249\n",
      "5                기아_K7_17-19              250\n",
      "6                기아_K9_18-21              250\n",
      "7                기아_니로_17-18              250\n",
      "8                기아_니로_19-21              250\n",
      "9                기아_레이_17-21              250\n",
      "10                  기아_모닝_17              250\n",
      "11               기아_모닝_18-21              250\n",
      "12              기아_모하비_17-19              250\n",
      "13              기아_봉고3_17-21              250\n",
      "14              기아_셀토스_18-21              250\n",
      "15              기아_스토닉_17-21              250\n",
      "16              기아_스팅어_17-21              247\n",
      "17             기아_스포티지_17-18              250\n",
      "18             기아_스포티지_19-21              250\n",
      "19              기아_쏘렌토_17-20              250\n",
      "20                 기아_쏘렌토_21              247\n",
      "21              기아_카니발_17-18              250\n",
      "22              기아_카니발_19-20              250\n",
      "23                 기아_카니발_21              248\n",
      "24              현대_i30_17-19              249\n",
      "25                 현대_그랜저_17              246\n",
      "26              현대_그랜저_18-19              247\n",
      "27              현대_그랜저_20-21              248\n",
      "28            현대_맥스크루즈_17-18              247\n",
      "29               현대_베뉴_19-21              248\n",
      "30             현대_벨로스터_18-21              249\n",
      "31             현대_스타렉스_17-18              249\n",
      "32             현대_스타렉스_19-21              250\n",
      "33              현대_싼타페_17-18              250\n",
      "34  현대_싼타페_19-21_INSPIRATION              250\n",
      "35              현대_쏘나타_17-19              250\n",
      "36              현대_쏘나타_20-21              247\n",
      "37              현대_아반떼_17-19              250\n",
      "38              현대_아반떼_20-21              247\n",
      "39    현대_아이오닉_17-20_ELECTRIC              248\n",
      "40      현대_아이오닉_17-20_HYBRID              249\n",
      "41              현대_엑센트_17-19              250\n",
      "42               현대_코나_17-20              250\n",
      "43               현대_투싼_17-21              250\n",
      "44            현대_팰리세이드_19-21              250\n",
      "45              현대_포터2_17-21              250\n"
     ]
    }
   ],
   "source": [
    "import os\n",
    "\n",
    "def count_files(directory):\n",
    "   file_counts = {}  # 파일 개수를 저장할 딕셔너리 초기화\n",
    "   \n",
    "   # 지정된 디렉토리 바로 아래에 있는 모든 하위 디렉토리 목록 생성\n",
    "   subdirectories = [os.path.join(directory, d) for d in os.listdir(directory) if os.path.isdir(os.path.join(directory, d))]\n",
    "   \n",
    "   # 각 하위 디렉토리에 있는 파일 개수 계산\n",
    "   for subdir in subdirectories:\n",
    "       files = [f for f in os.listdir(subdir) if os.path.isfile(os.path.join(subdir, f))]\n",
    "       folder_name = os.path.basename(subdir)\n",
    "       file_counts[folder_name] = len(files)\n",
    "       \n",
    "   return file_counts\n",
    "\n",
    "directory = 'angle_jpg4/car_back'\n",
    "file_counts = count_files(directory)\n",
    "\n",
    "import pandas as pd\n",
    "\n",
    "# 딕셔너리에서 DataFrame 생성\n",
    "df = pd.DataFrame(list(file_counts.items()), columns=['Folder', 'Number of Files'])\n",
    "print(df)"
   ]
  },
  {
   "cell_type": "code",
   "execution_count": 41,
   "metadata": {},
   "outputs": [
    {
     "data": {
      "text/plain": [
       "46"
      ]
     },
     "execution_count": 41,
     "metadata": {},
     "output_type": "execute_result"
    }
   ],
   "source": [
    "# 클래스 숫자 체크\n",
    "len(os.listdir('angle_jpg4/car_front'))"
   ]
  },
  {
   "cell_type": "code",
   "execution_count": 40,
   "metadata": {},
   "outputs": [
    {
     "data": {
      "text/plain": [
       "True"
      ]
     },
     "execution_count": 40,
     "metadata": {},
     "output_type": "execute_result"
    }
   ],
   "source": [
    "# 각 방향 폴더에 해당하는 클래스들이 동일한지 체크\n",
    "a = os.listdir('angle_jpg4/car_front')\n",
    "b = os.listdir('angle_jpg4/car_back')\n",
    "c = os.listdir('angle_jpg4/car_side')\n",
    "\n",
    "set_a = set(a)\n",
    "set_b = set(b)\n",
    "set_c = set(c)\n",
    "\n",
    "set_a == set_b == set_c"
   ]
  }
 ],
 "metadata": {
  "kernelspec": {
   "display_name": "cv",
   "language": "python",
   "name": "python3"
  },
  "language_info": {
   "codemirror_mode": {
    "name": "ipython",
    "version": 3
   },
   "file_extension": ".py",
   "mimetype": "text/x-python",
   "name": "python",
   "nbconvert_exporter": "python",
   "pygments_lexer": "ipython3",
   "version": "3.9.19"
  }
 },
 "nbformat": 4,
 "nbformat_minor": 2
}
